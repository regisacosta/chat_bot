{
 "cells": [
  {
   "cell_type": "code",
   "execution_count": 47,
   "id": "0715b35f",
   "metadata": {},
   "outputs": [],
   "source": [
    "import numpy as np \n",
    "import string\n",
    "import re\n",
    "from nltk.corpus import stopwords\n",
    "import pandas as pd \n",
    "from sklearn.feature_extraction.text import CountVectorizer\n",
    "from sklearn.tree import DecisionTreeClassifier\n",
    "from sklearn.feature_extraction.text import TfidfTransformer,TfidfVectorizer\n",
    "from sklearn.pipeline import Pipeline\n",
    "from sklearn.pipeline import Pipeline, FeatureUnion\n",
    "from sklearn.preprocessing import StandardScaler\n",
    "from sklearn.linear_model import LogisticRegression\n",
    "from sklearn.ensemble import RandomForestClassifier\n",
    "from sklearn.model_selection import train_test_split\n",
    "from sklearn.metrics import accuracy_score"
   ]
  },
  {
   "cell_type": "code",
   "execution_count": 48,
   "id": "cfb3a1ba",
   "metadata": {},
   "outputs": [],
   "source": [
    "movie_data= pd.read_csv('full_movie_data.csv')"
   ]
  },
  {
   "cell_type": "code",
   "execution_count": 49,
   "id": "175b8bda",
   "metadata": {},
   "outputs": [],
   "source": [
    "movie_data['Summary'] = movie_data['Summary'].astype(str)"
   ]
  },
  {
   "cell_type": "code",
   "execution_count": 50,
   "id": "dced6cdc",
   "metadata": {},
   "outputs": [],
   "source": [
    "def clean_text(text):\n",
    "    text = re.sub('[^a-zA-Z0-9]', ' ', text) # Replace all non-alphanumeric characters with a space\n",
    "    return text.lower() # Convert the text to lowercase\n",
    "\n",
    "movie_data['Clean Summary'] = movie_data['Summary'].apply(clean_text)"
   ]
  },
  {
   "cell_type": "code",
   "execution_count": 51,
   "id": "45e57852",
   "metadata": {},
   "outputs": [
    {
     "name": "stderr",
     "output_type": "stream",
     "text": [
      "[nltk_data] Downloading package stopwords to\n",
      "[nltk_data]     /Users/regisacosta/nltk_data...\n",
      "[nltk_data]   Package stopwords is already up-to-date!\n"
     ]
    }
   ],
   "source": [
    "import nltk\n",
    "from nltk.corpus import stopwords\n",
    "\n",
    "nltk.download('stopwords')\n",
    "stop_words = set(stopwords.words('english'))\n",
    "\n",
    "def remove_stop_words(text):\n",
    "    words = text.split()\n",
    "    filtered_words = [word for word in words if word not in stop_words]\n",
    "    return ' '.join(filtered_words)\n",
    "\n",
    "movie_data['Clean Summary'] = movie_data['Clean Summary'].apply(remove_stop_words)"
   ]
  },
  {
   "cell_type": "code",
   "execution_count": 52,
   "id": "0384cbb2",
   "metadata": {},
   "outputs": [],
   "source": [
    "from nltk.stem import PorterStemmer\n",
    "\n",
    "stemmer = PorterStemmer()\n",
    "\n",
    "def stem_words(text):\n",
    "    words = text.split()\n",
    "    stemmed_words = [stemmer.stem(word) for word in words]\n",
    "    return ' '.join(stemmed_words)\n",
    "\n",
    "movie_data['Clean Summary'] = movie_data['Clean Summary'].apply(stem_words)"
   ]
  },
  {
   "cell_type": "code",
   "execution_count": 53,
   "id": "e9a095cb",
   "metadata": {},
   "outputs": [
    {
     "data": {
      "text/html": [
       "<div>\n",
       "<style scoped>\n",
       "    .dataframe tbody tr th:only-of-type {\n",
       "        vertical-align: middle;\n",
       "    }\n",
       "\n",
       "    .dataframe tbody tr th {\n",
       "        vertical-align: top;\n",
       "    }\n",
       "\n",
       "    .dataframe thead th {\n",
       "        text-align: right;\n",
       "    }\n",
       "</style>\n",
       "<table border=\"1\" class=\"dataframe\">\n",
       "  <thead>\n",
       "    <tr style=\"text-align: right;\">\n",
       "      <th></th>\n",
       "      <th>Title</th>\n",
       "      <th>Year</th>\n",
       "      <th>Summary</th>\n",
       "      <th>Short Summary</th>\n",
       "      <th>Genres</th>\n",
       "      <th>Director</th>\n",
       "      <th>Writers</th>\n",
       "      <th>Cast</th>\n",
       "      <th>Clean Summary</th>\n",
       "    </tr>\n",
       "  </thead>\n",
       "  <tbody>\n",
       "    <tr>\n",
       "      <th>0</th>\n",
       "      <td>Patton Oswalt: Annihilation</td>\n",
       "      <td>2017</td>\n",
       "      <td>Patton Oswald, despite a personal tragedy, pro...</td>\n",
       "      <td>Patton Oswalt, despite a personal tragedy, pro...</td>\n",
       "      <td>Uncategorized</td>\n",
       "      <td>Bobcat Goldthwait</td>\n",
       "      <td>Patton Oswalt</td>\n",
       "      <td>Patton Oswalt</td>\n",
       "      <td>patton oswald despit person tragedi produc bes...</td>\n",
       "    </tr>\n",
       "    <tr>\n",
       "      <th>1</th>\n",
       "      <td>New York Doll</td>\n",
       "      <td>2005</td>\n",
       "      <td>A recovering alcoholic and recently converted ...</td>\n",
       "      <td>A recovering alcoholic and recently converted ...</td>\n",
       "      <td>Documentary|Music</td>\n",
       "      <td>Greg Whiteley</td>\n",
       "      <td>Arthur Kane</td>\n",
       "      <td>Sylvain Sylvain</td>\n",
       "      <td>recov alcohol recent convert mormon arthur kil...</td>\n",
       "    </tr>\n",
       "    <tr>\n",
       "      <th>2</th>\n",
       "      <td>Mickey's Magical Christmas: Snowed in at the H...</td>\n",
       "      <td>2001</td>\n",
       "      <td>After everyone is snowed in at the House of Mo...</td>\n",
       "      <td>Mickey and all his friends hold their own Chri...</td>\n",
       "      <td>Adventure|Animation|Comedy|Family|Fantasy</td>\n",
       "      <td>Tony Craig</td>\n",
       "      <td>Thomas Hart</td>\n",
       "      <td>Carlos Alazraqui|Wayne Allwine</td>\n",
       "      <td>everyon snow hous mous mickey suggest throw ch...</td>\n",
       "    </tr>\n",
       "    <tr>\n",
       "      <th>3</th>\n",
       "      <td>Mickey's House of Villains</td>\n",
       "      <td>2001</td>\n",
       "      <td>The villains from the popular animated Disney ...</td>\n",
       "      <td>The villains from the popular animated Disney ...</td>\n",
       "      <td>Animation|Comedy|Family|Fantasy|Horror</td>\n",
       "      <td>Jamie Mitchell</td>\n",
       "      <td>Thomas Hart</td>\n",
       "      <td>Tony Anselmo|Wayne Allwine</td>\n",
       "      <td>villain popular anim disney film gather hous m...</td>\n",
       "    </tr>\n",
       "    <tr>\n",
       "      <th>4</th>\n",
       "      <td>And Then I Go</td>\n",
       "      <td>2017</td>\n",
       "      <td>In the cruel world of junior high, Edwin suffe...</td>\n",
       "      <td>In the cruel world of junior high, Edwin suffe...</td>\n",
       "      <td>Drama</td>\n",
       "      <td>Vincent Grashaw</td>\n",
       "      <td>Brett Haley</td>\n",
       "      <td>Arman Darbo|Sawyer Barth</td>\n",
       "      <td>cruel world junior high edwin suffer state anx...</td>\n",
       "    </tr>\n",
       "    <tr>\n",
       "      <th>...</th>\n",
       "      <td>...</td>\n",
       "      <td>...</td>\n",
       "      <td>...</td>\n",
       "      <td>...</td>\n",
       "      <td>...</td>\n",
       "      <td>...</td>\n",
       "      <td>...</td>\n",
       "      <td>...</td>\n",
       "      <td>...</td>\n",
       "    </tr>\n",
       "    <tr>\n",
       "      <th>3935</th>\n",
       "      <td>Skyscraper</td>\n",
       "      <td>2018</td>\n",
       "      <td>FBI Hostage Rescue Team leader and U.S. war ve...</td>\n",
       "      <td>A security expert must infiltrate a burning sk...</td>\n",
       "      <td>Action|Thriller</td>\n",
       "      <td>Rawson Marshall Thurber</td>\n",
       "      <td>Rawson Marshall Thurber</td>\n",
       "      <td>Chin Han|Dwayne Johnson|Neve Campbell</td>\n",
       "      <td>fbi hostag rescu team leader u war veteran saw...</td>\n",
       "    </tr>\n",
       "    <tr>\n",
       "      <th>3936</th>\n",
       "      <td>Trench 11</td>\n",
       "      <td>2017</td>\n",
       "      <td>In the final days of WWI, an allied army unit ...</td>\n",
       "      <td>In the final days of WWI, an allied army unit ...</td>\n",
       "      <td>Horror|Thriller|War</td>\n",
       "      <td>Leo Scherman</td>\n",
       "      <td>Matt Booi</td>\n",
       "      <td>Charlie Carrick|Robert Stadlober|Rossif Suther...</td>\n",
       "      <td>final day wwi alli armi unit led shell shock s...</td>\n",
       "    </tr>\n",
       "    <tr>\n",
       "      <th>3937</th>\n",
       "      <td>My Daddy's in Heaven</td>\n",
       "      <td>2017</td>\n",
       "      <td>Becca, Adam and their 5-year-old daughter Acie...</td>\n",
       "      <td>Becca, Adam and their 5-year-old daughter Acie...</td>\n",
       "      <td>Comedy|Drama|Family</td>\n",
       "      <td>Waymon Boone</td>\n",
       "      <td>Joseph Nasser</td>\n",
       "      <td>Corbin Bernsen|Jenn Gotzon Chandler|Lee Benton</td>\n",
       "      <td>becca adam 5 year old daughter aci perfect fam...</td>\n",
       "    </tr>\n",
       "    <tr>\n",
       "      <th>3938</th>\n",
       "      <td>Keeping Up with the Steins</td>\n",
       "      <td>2006</td>\n",
       "      <td>In toney Brentwood, Benjamin Fiedler prepares ...</td>\n",
       "      <td>A 13-year-old boy uses his upcoming bar mitzva...</td>\n",
       "      <td>Comedy</td>\n",
       "      <td>Scott Marshall</td>\n",
       "      <td>Mark Zakarin</td>\n",
       "      <td>Daryl Sabara|Garry Marshall|Jeremy Piven</td>\n",
       "      <td>toney brentwood benjamin fiedler prepar bar mi...</td>\n",
       "    </tr>\n",
       "    <tr>\n",
       "      <th>3939</th>\n",
       "      <td>UFO</td>\n",
       "      <td>2018</td>\n",
       "      <td>Derek (Alex Sharp) a brilliant college student...</td>\n",
       "      <td>A college student, who sees a UFO, uses his ex...</td>\n",
       "      <td>Action|Sci-Fi|Thriller</td>\n",
       "      <td>Ryan Eslinger</td>\n",
       "      <td>Ryan Eslinger</td>\n",
       "      <td>Alex Sharp|Benjamin Beatty|Ella Purnell</td>\n",
       "      <td>derek alex sharp brilliant colleg student haun...</td>\n",
       "    </tr>\n",
       "  </tbody>\n",
       "</table>\n",
       "<p>3940 rows × 9 columns</p>\n",
       "</div>"
      ],
      "text/plain": [
       "                                                  Title  Year  \\\n",
       "0                           Patton Oswalt: Annihilation  2017   \n",
       "1                                         New York Doll  2005   \n",
       "2     Mickey's Magical Christmas: Snowed in at the H...  2001   \n",
       "3                            Mickey's House of Villains  2001   \n",
       "4                                         And Then I Go  2017   \n",
       "...                                                 ...   ...   \n",
       "3935                                         Skyscraper  2018   \n",
       "3936                                          Trench 11  2017   \n",
       "3937                               My Daddy's in Heaven  2017   \n",
       "3938                         Keeping Up with the Steins  2006   \n",
       "3939                                                UFO  2018   \n",
       "\n",
       "                                                Summary  \\\n",
       "0     Patton Oswald, despite a personal tragedy, pro...   \n",
       "1     A recovering alcoholic and recently converted ...   \n",
       "2     After everyone is snowed in at the House of Mo...   \n",
       "3     The villains from the popular animated Disney ...   \n",
       "4     In the cruel world of junior high, Edwin suffe...   \n",
       "...                                                 ...   \n",
       "3935  FBI Hostage Rescue Team leader and U.S. war ve...   \n",
       "3936  In the final days of WWI, an allied army unit ...   \n",
       "3937  Becca, Adam and their 5-year-old daughter Acie...   \n",
       "3938  In toney Brentwood, Benjamin Fiedler prepares ...   \n",
       "3939  Derek (Alex Sharp) a brilliant college student...   \n",
       "\n",
       "                                          Short Summary  \\\n",
       "0     Patton Oswalt, despite a personal tragedy, pro...   \n",
       "1     A recovering alcoholic and recently converted ...   \n",
       "2     Mickey and all his friends hold their own Chri...   \n",
       "3     The villains from the popular animated Disney ...   \n",
       "4     In the cruel world of junior high, Edwin suffe...   \n",
       "...                                                 ...   \n",
       "3935  A security expert must infiltrate a burning sk...   \n",
       "3936  In the final days of WWI, an allied army unit ...   \n",
       "3937  Becca, Adam and their 5-year-old daughter Acie...   \n",
       "3938  A 13-year-old boy uses his upcoming bar mitzva...   \n",
       "3939  A college student, who sees a UFO, uses his ex...   \n",
       "\n",
       "                                         Genres                 Director  \\\n",
       "0                                 Uncategorized        Bobcat Goldthwait   \n",
       "1                             Documentary|Music            Greg Whiteley   \n",
       "2     Adventure|Animation|Comedy|Family|Fantasy               Tony Craig   \n",
       "3        Animation|Comedy|Family|Fantasy|Horror           Jamie Mitchell   \n",
       "4                                         Drama          Vincent Grashaw   \n",
       "...                                         ...                      ...   \n",
       "3935                            Action|Thriller  Rawson Marshall Thurber   \n",
       "3936                        Horror|Thriller|War             Leo Scherman   \n",
       "3937                        Comedy|Drama|Family             Waymon Boone   \n",
       "3938                                     Comedy           Scott Marshall   \n",
       "3939                     Action|Sci-Fi|Thriller            Ryan Eslinger   \n",
       "\n",
       "                      Writers  \\\n",
       "0               Patton Oswalt   \n",
       "1                 Arthur Kane   \n",
       "2                 Thomas Hart   \n",
       "3                 Thomas Hart   \n",
       "4                 Brett Haley   \n",
       "...                       ...   \n",
       "3935  Rawson Marshall Thurber   \n",
       "3936                Matt Booi   \n",
       "3937            Joseph Nasser   \n",
       "3938             Mark Zakarin   \n",
       "3939            Ryan Eslinger   \n",
       "\n",
       "                                                   Cast  \\\n",
       "0                                         Patton Oswalt   \n",
       "1                                       Sylvain Sylvain   \n",
       "2                        Carlos Alazraqui|Wayne Allwine   \n",
       "3                            Tony Anselmo|Wayne Allwine   \n",
       "4                              Arman Darbo|Sawyer Barth   \n",
       "...                                                 ...   \n",
       "3935              Chin Han|Dwayne Johnson|Neve Campbell   \n",
       "3936  Charlie Carrick|Robert Stadlober|Rossif Suther...   \n",
       "3937     Corbin Bernsen|Jenn Gotzon Chandler|Lee Benton   \n",
       "3938           Daryl Sabara|Garry Marshall|Jeremy Piven   \n",
       "3939            Alex Sharp|Benjamin Beatty|Ella Purnell   \n",
       "\n",
       "                                          Clean Summary  \n",
       "0     patton oswald despit person tragedi produc bes...  \n",
       "1     recov alcohol recent convert mormon arthur kil...  \n",
       "2     everyon snow hous mous mickey suggest throw ch...  \n",
       "3     villain popular anim disney film gather hous m...  \n",
       "4     cruel world junior high edwin suffer state anx...  \n",
       "...                                                 ...  \n",
       "3935  fbi hostag rescu team leader u war veteran saw...  \n",
       "3936  final day wwi alli armi unit led shell shock s...  \n",
       "3937  becca adam 5 year old daughter aci perfect fam...  \n",
       "3938  toney brentwood benjamin fiedler prepar bar mi...  \n",
       "3939  derek alex sharp brilliant colleg student haun...  \n",
       "\n",
       "[3940 rows x 9 columns]"
      ]
     },
     "execution_count": 53,
     "metadata": {},
     "output_type": "execute_result"
    }
   ],
   "source": [
    "movie_data"
   ]
  },
  {
   "cell_type": "code",
   "execution_count": 54,
   "id": "ff940da2",
   "metadata": {},
   "outputs": [],
   "source": [
    "# Prepare the data for training and testing\n",
    "X = movie_data['Clean Summary'] # input features\n",
    "y = movie_data['Title'] # target variable\n",
    "X_train, X_test, y_train, y_test = train_test_split(X, y, test_size=0.2, random_state=42)"
   ]
  },
  {
   "cell_type": "code",
   "execution_count": 55,
   "id": "6a86b2ed",
   "metadata": {},
   "outputs": [],
   "source": [
    "# Vectorize the text data\n",
    "vectorizer = TfidfVectorizer(stop_words='english')\n",
    "X_train = vectorizer.fit_transform(X_train)\n",
    "X_test = vectorizer.transform(X_test)"
   ]
  },
  {
   "cell_type": "code",
   "execution_count": 56,
   "id": "f58f195e",
   "metadata": {},
   "outputs": [
    {
     "data": {
      "text/plain": [
       "RandomForestClassifier(random_state=42)"
      ]
     },
     "execution_count": 56,
     "metadata": {},
     "output_type": "execute_result"
    }
   ],
   "source": [
    "# Train a random forest model\n",
    "rf_model = RandomForestClassifier(n_estimators=100, random_state=42)\n",
    "rf_model.fit(X_train, y_train)"
   ]
  },
  {
   "cell_type": "code",
   "execution_count": 60,
   "id": "d683414a",
   "metadata": {},
   "outputs": [
    {
     "name": "stdout",
     "output_type": "stream",
     "text": [
      "Enter a movie description: Patton Oswald, despite a personal tragedy, produces his best standup yet.\n"
     ]
    }
   ],
   "source": [
    "user_input = input(\"Enter a movie description: \")\n",
    "clean_input = clean_text(user_input) # assuming you have defined the clean_text function as shown earlier"
   ]
  },
  {
   "cell_type": "code",
   "execution_count": 61,
   "id": "3a4f3fa4",
   "metadata": {},
   "outputs": [
    {
     "name": "stdout",
     "output_type": "stream",
     "text": [
      "Predicted movie title:  Patton Oswalt: Annihilation\n"
     ]
    }
   ],
   "source": [
    "# Vectorize the user input\n",
    "input_vec = vectorizer.transform([clean_input])\n",
    "\n",
    "# Predict the movie title for the user input\n",
    "predicted_title = rf_model.predict(input_vec)[0]\n",
    "print(\"Predicted movie title: \", predicted_title)"
   ]
  },
  {
   "cell_type": "code",
   "execution_count": 64,
   "id": "bff715d5",
   "metadata": {},
   "outputs": [
    {
     "name": "stdout",
     "output_type": "stream",
     "text": [
      " * Serving Flask app \"__main__\" (lazy loading)\n",
      " * Environment: production\n",
      "\u001b[31m   WARNING: This is a development server. Do not use it in a production deployment.\u001b[0m\n",
      "\u001b[2m   Use a production WSGI server instead.\u001b[0m\n",
      " * Debug mode: on\n"
     ]
    },
    {
     "name": "stderr",
     "output_type": "stream",
     "text": [
      " * Running on http://127.0.0.1:8000/ (Press CTRL+C to quit)\n",
      " * Restarting with fsevents reloader\n"
     ]
    },
    {
     "ename": "SystemExit",
     "evalue": "1",
     "output_type": "error",
     "traceback": [
      "An exception has occurred, use %tb to see the full traceback.\n",
      "\u001b[0;31mSystemExit\u001b[0m\u001b[0;31m:\u001b[0m 1\n"
     ]
    }
   ],
   "source": [
    "import flask\n",
    "\n",
    "app = flask.Flask(__name__)\n",
    "\n",
    "@app.route('/', methods=['GET', 'POST'])\n",
    "def index():\n",
    "    if flask.request.method == 'POST':\n",
    "        # Get the user input from the form\n",
    "        user_input = flask.request.form['description']\n",
    "\n",
    "        # Clean and vectorize the user input\n",
    "        clean_input = clean_text(user_input)\n",
    "        input_vec = vectorizer.transform([clean_input])\n",
    "\n",
    "        # Predict the movie title for the user input\n",
    "        predicted_title = rf_model.predict(input_vec)[0]\n",
    "\n",
    "        return flask.render_template('moviebot.html', prediction=predicted_title)\n",
    "    \n",
    "    return flask.render_template('moviebot.html')\n",
    "\n",
    "if __name__ == '__main__':\n",
    "    app.run(debug=True, port=8000)"
   ]
  },
  {
   "cell_type": "code",
   "execution_count": null,
   "id": "795d88c2",
   "metadata": {},
   "outputs": [],
   "source": []
  }
 ],
 "metadata": {
  "kernelspec": {
   "display_name": "Python 3",
   "language": "python",
   "name": "python3"
  },
  "language_info": {
   "codemirror_mode": {
    "name": "ipython",
    "version": 3
   },
   "file_extension": ".py",
   "mimetype": "text/x-python",
   "name": "python",
   "nbconvert_exporter": "python",
   "pygments_lexer": "ipython3",
   "version": "3.8.8"
  }
 },
 "nbformat": 4,
 "nbformat_minor": 5
}
