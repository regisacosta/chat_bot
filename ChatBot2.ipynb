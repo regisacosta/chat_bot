{
 "cells": [
  {
   "cell_type": "code",
   "execution_count": 1,
   "id": "bd9668b1",
   "metadata": {},
   "outputs": [],
   "source": [
    "import numpy as np \n",
    "import string\n",
    "from nltk.corpus import stopwords\n",
    "import pandas as pd \n",
    "from sklearn.feature_extraction.text import CountVectorizer\n",
    "from sklearn.tree import DecisionTreeClassifier\n",
    "from sklearn.feature_extraction.text import TfidfTransformer,TfidfVectorizer\n",
    "from sklearn.pipeline import Pipeline"
   ]
  },
  {
   "cell_type": "code",
   "execution_count": 2,
   "id": "637e7e4d",
   "metadata": {},
   "outputs": [],
   "source": [
    "df = pd.read_csv('dialogs.txt',sep='\\t')"
   ]
  },
  {
   "cell_type": "code",
   "execution_count": 3,
   "id": "8c7194ab",
   "metadata": {},
   "outputs": [],
   "source": [
    "a = pd.Series(df.columns)"
   ]
  },
  {
   "cell_type": "code",
   "execution_count": 4,
   "id": "2a00cc02",
   "metadata": {},
   "outputs": [
    {
     "data": {
      "text/html": [
       "<div>\n",
       "<style scoped>\n",
       "    .dataframe tbody tr th:only-of-type {\n",
       "        vertical-align: middle;\n",
       "    }\n",
       "\n",
       "    .dataframe tbody tr th {\n",
       "        vertical-align: top;\n",
       "    }\n",
       "\n",
       "    .dataframe thead th {\n",
       "        text-align: right;\n",
       "    }\n",
       "</style>\n",
       "<table border=\"1\" class=\"dataframe\">\n",
       "  <thead>\n",
       "    <tr style=\"text-align: right;\">\n",
       "      <th></th>\n",
       "      <th>hi, how are you doing?</th>\n",
       "      <th>i'm fine. how about yourself?</th>\n",
       "    </tr>\n",
       "  </thead>\n",
       "  <tbody>\n",
       "    <tr>\n",
       "      <th>0</th>\n",
       "      <td>i'm fine. how about yourself?</td>\n",
       "      <td>i'm pretty good. thanks for asking.</td>\n",
       "    </tr>\n",
       "    <tr>\n",
       "      <th>1</th>\n",
       "      <td>i'm pretty good. thanks for asking.</td>\n",
       "      <td>no problem. so how have you been?</td>\n",
       "    </tr>\n",
       "    <tr>\n",
       "      <th>2</th>\n",
       "      <td>no problem. so how have you been?</td>\n",
       "      <td>i've been great. what about you?</td>\n",
       "    </tr>\n",
       "    <tr>\n",
       "      <th>3</th>\n",
       "      <td>i've been great. what about you?</td>\n",
       "      <td>i've been good. i'm in school right now.</td>\n",
       "    </tr>\n",
       "    <tr>\n",
       "      <th>4</th>\n",
       "      <td>i've been good. i'm in school right now.</td>\n",
       "      <td>what school do you go to?</td>\n",
       "    </tr>\n",
       "    <tr>\n",
       "      <th>...</th>\n",
       "      <td>...</td>\n",
       "      <td>...</td>\n",
       "    </tr>\n",
       "    <tr>\n",
       "      <th>3719</th>\n",
       "      <td>that's a good question. maybe it's not old age.</td>\n",
       "      <td>are you right-handed?</td>\n",
       "    </tr>\n",
       "    <tr>\n",
       "      <th>3720</th>\n",
       "      <td>are you right-handed?</td>\n",
       "      <td>yes. all my life.</td>\n",
       "    </tr>\n",
       "    <tr>\n",
       "      <th>3721</th>\n",
       "      <td>yes. all my life.</td>\n",
       "      <td>you're wearing out your right hand. stop using...</td>\n",
       "    </tr>\n",
       "    <tr>\n",
       "      <th>3722</th>\n",
       "      <td>you're wearing out your right hand. stop using...</td>\n",
       "      <td>but i do all my writing with my right hand.</td>\n",
       "    </tr>\n",
       "    <tr>\n",
       "      <th>3723</th>\n",
       "      <td>but i do all my writing with my right hand.</td>\n",
       "      <td>start typing instead. that way your left hand ...</td>\n",
       "    </tr>\n",
       "  </tbody>\n",
       "</table>\n",
       "<p>3724 rows × 2 columns</p>\n",
       "</div>"
      ],
      "text/plain": [
       "                                 hi, how are you doing?  \\\n",
       "0                         i'm fine. how about yourself?   \n",
       "1                   i'm pretty good. thanks for asking.   \n",
       "2                     no problem. so how have you been?   \n",
       "3                      i've been great. what about you?   \n",
       "4              i've been good. i'm in school right now.   \n",
       "...                                                 ...   \n",
       "3719    that's a good question. maybe it's not old age.   \n",
       "3720                              are you right-handed?   \n",
       "3721                                  yes. all my life.   \n",
       "3722  you're wearing out your right hand. stop using...   \n",
       "3723        but i do all my writing with my right hand.   \n",
       "\n",
       "                          i'm fine. how about yourself?  \n",
       "0                   i'm pretty good. thanks for asking.  \n",
       "1                     no problem. so how have you been?  \n",
       "2                      i've been great. what about you?  \n",
       "3              i've been good. i'm in school right now.  \n",
       "4                             what school do you go to?  \n",
       "...                                                 ...  \n",
       "3719                              are you right-handed?  \n",
       "3720                                  yes. all my life.  \n",
       "3721  you're wearing out your right hand. stop using...  \n",
       "3722        but i do all my writing with my right hand.  \n",
       "3723  start typing instead. that way your left hand ...  \n",
       "\n",
       "[3724 rows x 2 columns]"
      ]
     },
     "execution_count": 4,
     "metadata": {},
     "output_type": "execute_result"
    }
   ],
   "source": [
    "df"
   ]
  },
  {
   "cell_type": "code",
   "execution_count": 5,
   "id": "a0dd8bb1",
   "metadata": {},
   "outputs": [],
   "source": [
    "a = a.rename({0: df.columns[0],1: df.columns[1]})"
   ]
  },
  {
   "cell_type": "code",
   "execution_count": 6,
   "id": "b69f9280",
   "metadata": {},
   "outputs": [],
   "source": [
    "b = {'Questions':'Hi','Answers':'hello'}"
   ]
  },
  {
   "cell_type": "code",
   "execution_count": 14,
   "id": "e18c0195",
   "metadata": {},
   "outputs": [],
   "source": [
    "c = {'Questions':'Hello','Answers':'hi'}"
   ]
  },
  {
   "cell_type": "code",
   "execution_count": 9,
   "id": "65b670db",
   "metadata": {},
   "outputs": [],
   "source": [
    "d = {'Questions':'how are you','Answers':\"i'm fine. how about yourself?\"}"
   ]
  },
  {
   "cell_type": "code",
   "execution_count": 10,
   "id": "16a787bd",
   "metadata": {},
   "outputs": [],
   "source": [
    "e = {'Questions':'how are you doing','Answers':\"i'm fine. how about yourself?\"}"
   ]
  },
  {
   "cell_type": "code",
   "execution_count": 11,
   "id": "105242ac",
   "metadata": {},
   "outputs": [],
   "source": [
    "df = df.append(a,ignore_index=True)"
   ]
  },
  {
   "cell_type": "code",
   "execution_count": 12,
   "id": "77869c07",
   "metadata": {},
   "outputs": [],
   "source": [
    "df.columns=['Questions','Answers']"
   ]
  },
  {
   "cell_type": "code",
   "execution_count": 15,
   "id": "eac7b896",
   "metadata": {},
   "outputs": [],
   "source": [
    "df = df.append([b,c,d,e],ignore_index=True)"
   ]
  },
  {
   "cell_type": "code",
   "execution_count": 16,
   "id": "9686876c",
   "metadata": {},
   "outputs": [
    {
     "data": {
      "text/html": [
       "<div>\n",
       "<style scoped>\n",
       "    .dataframe tbody tr th:only-of-type {\n",
       "        vertical-align: middle;\n",
       "    }\n",
       "\n",
       "    .dataframe tbody tr th {\n",
       "        vertical-align: top;\n",
       "    }\n",
       "\n",
       "    .dataframe thead th {\n",
       "        text-align: right;\n",
       "    }\n",
       "</style>\n",
       "<table border=\"1\" class=\"dataframe\">\n",
       "  <thead>\n",
       "    <tr style=\"text-align: right;\">\n",
       "      <th></th>\n",
       "      <th>Questions</th>\n",
       "      <th>Answers</th>\n",
       "    </tr>\n",
       "  </thead>\n",
       "  <tbody>\n",
       "    <tr>\n",
       "      <th>0</th>\n",
       "      <td>i'm fine. how about yourself?</td>\n",
       "      <td>i'm pretty good. thanks for asking.</td>\n",
       "    </tr>\n",
       "    <tr>\n",
       "      <th>1</th>\n",
       "      <td>i'm pretty good. thanks for asking.</td>\n",
       "      <td>no problem. so how have you been?</td>\n",
       "    </tr>\n",
       "    <tr>\n",
       "      <th>2</th>\n",
       "      <td>no problem. so how have you been?</td>\n",
       "      <td>i've been great. what about you?</td>\n",
       "    </tr>\n",
       "    <tr>\n",
       "      <th>3</th>\n",
       "      <td>i've been great. what about you?</td>\n",
       "      <td>i've been good. i'm in school right now.</td>\n",
       "    </tr>\n",
       "    <tr>\n",
       "      <th>4</th>\n",
       "      <td>i've been good. i'm in school right now.</td>\n",
       "      <td>what school do you go to?</td>\n",
       "    </tr>\n",
       "    <tr>\n",
       "      <th>...</th>\n",
       "      <td>...</td>\n",
       "      <td>...</td>\n",
       "    </tr>\n",
       "    <tr>\n",
       "      <th>3724</th>\n",
       "      <td>hi, how are you doing?</td>\n",
       "      <td>i'm fine. how about yourself?</td>\n",
       "    </tr>\n",
       "    <tr>\n",
       "      <th>3725</th>\n",
       "      <td>Hi</td>\n",
       "      <td>hello</td>\n",
       "    </tr>\n",
       "    <tr>\n",
       "      <th>3726</th>\n",
       "      <td>Hello</td>\n",
       "      <td>hi</td>\n",
       "    </tr>\n",
       "    <tr>\n",
       "      <th>3727</th>\n",
       "      <td>how are you</td>\n",
       "      <td>i'm fine. how about yourself?</td>\n",
       "    </tr>\n",
       "    <tr>\n",
       "      <th>3728</th>\n",
       "      <td>how are you doing</td>\n",
       "      <td>i'm fine. how about yourself?</td>\n",
       "    </tr>\n",
       "  </tbody>\n",
       "</table>\n",
       "<p>3729 rows × 2 columns</p>\n",
       "</div>"
      ],
      "text/plain": [
       "                                     Questions  \\\n",
       "0                i'm fine. how about yourself?   \n",
       "1          i'm pretty good. thanks for asking.   \n",
       "2            no problem. so how have you been?   \n",
       "3             i've been great. what about you?   \n",
       "4     i've been good. i'm in school right now.   \n",
       "...                                        ...   \n",
       "3724                    hi, how are you doing?   \n",
       "3725                                        Hi   \n",
       "3726                                     Hello   \n",
       "3727                               how are you   \n",
       "3728                         how are you doing   \n",
       "\n",
       "                                       Answers  \n",
       "0          i'm pretty good. thanks for asking.  \n",
       "1            no problem. so how have you been?  \n",
       "2             i've been great. what about you?  \n",
       "3     i've been good. i'm in school right now.  \n",
       "4                    what school do you go to?  \n",
       "...                                        ...  \n",
       "3724             i'm fine. how about yourself?  \n",
       "3725                                     hello  \n",
       "3726                                        hi  \n",
       "3727             i'm fine. how about yourself?  \n",
       "3728             i'm fine. how about yourself?  \n",
       "\n",
       "[3729 rows x 2 columns]"
      ]
     },
     "execution_count": 16,
     "metadata": {},
     "output_type": "execute_result"
    }
   ],
   "source": [
    "df"
   ]
  },
  {
   "cell_type": "code",
   "execution_count": 17,
   "id": "aae7acc6",
   "metadata": {},
   "outputs": [],
   "source": [
    "df = df.append(c,ignore_index=True)"
   ]
  },
  {
   "cell_type": "code",
   "execution_count": 18,
   "id": "93cbcd49",
   "metadata": {},
   "outputs": [],
   "source": [
    "df = df.append(d,ignore_index=True)"
   ]
  },
  {
   "cell_type": "code",
   "execution_count": 19,
   "id": "7ecffd3c",
   "metadata": {},
   "outputs": [],
   "source": [
    "df = df.append(d,ignore_index=True)"
   ]
  },
  {
   "cell_type": "code",
   "execution_count": 20,
   "id": "ae03b7b5",
   "metadata": {},
   "outputs": [
    {
     "data": {
      "text/html": [
       "<div>\n",
       "<style scoped>\n",
       "    .dataframe tbody tr th:only-of-type {\n",
       "        vertical-align: middle;\n",
       "    }\n",
       "\n",
       "    .dataframe tbody tr th {\n",
       "        vertical-align: top;\n",
       "    }\n",
       "\n",
       "    .dataframe thead th {\n",
       "        text-align: right;\n",
       "    }\n",
       "</style>\n",
       "<table border=\"1\" class=\"dataframe\">\n",
       "  <thead>\n",
       "    <tr style=\"text-align: right;\">\n",
       "      <th></th>\n",
       "      <th>Questions</th>\n",
       "      <th>Answers</th>\n",
       "    </tr>\n",
       "  </thead>\n",
       "  <tbody>\n",
       "    <tr>\n",
       "      <th>0</th>\n",
       "      <td>i'm fine. how about yourself?</td>\n",
       "      <td>i'm pretty good. thanks for asking.</td>\n",
       "    </tr>\n",
       "    <tr>\n",
       "      <th>1</th>\n",
       "      <td>i'm pretty good. thanks for asking.</td>\n",
       "      <td>no problem. so how have you been?</td>\n",
       "    </tr>\n",
       "    <tr>\n",
       "      <th>2</th>\n",
       "      <td>no problem. so how have you been?</td>\n",
       "      <td>i've been great. what about you?</td>\n",
       "    </tr>\n",
       "    <tr>\n",
       "      <th>3</th>\n",
       "      <td>i've been great. what about you?</td>\n",
       "      <td>i've been good. i'm in school right now.</td>\n",
       "    </tr>\n",
       "    <tr>\n",
       "      <th>4</th>\n",
       "      <td>i've been good. i'm in school right now.</td>\n",
       "      <td>what school do you go to?</td>\n",
       "    </tr>\n",
       "    <tr>\n",
       "      <th>...</th>\n",
       "      <td>...</td>\n",
       "      <td>...</td>\n",
       "    </tr>\n",
       "    <tr>\n",
       "      <th>3727</th>\n",
       "      <td>how are you</td>\n",
       "      <td>i'm fine. how about yourself?</td>\n",
       "    </tr>\n",
       "    <tr>\n",
       "      <th>3728</th>\n",
       "      <td>how are you doing</td>\n",
       "      <td>i'm fine. how about yourself?</td>\n",
       "    </tr>\n",
       "    <tr>\n",
       "      <th>3729</th>\n",
       "      <td>Hello</td>\n",
       "      <td>hi</td>\n",
       "    </tr>\n",
       "    <tr>\n",
       "      <th>3730</th>\n",
       "      <td>how are you</td>\n",
       "      <td>i'm fine. how about yourself?</td>\n",
       "    </tr>\n",
       "    <tr>\n",
       "      <th>3731</th>\n",
       "      <td>how are you</td>\n",
       "      <td>i'm fine. how about yourself?</td>\n",
       "    </tr>\n",
       "  </tbody>\n",
       "</table>\n",
       "<p>3732 rows × 2 columns</p>\n",
       "</div>"
      ],
      "text/plain": [
       "                                     Questions  \\\n",
       "0                i'm fine. how about yourself?   \n",
       "1          i'm pretty good. thanks for asking.   \n",
       "2            no problem. so how have you been?   \n",
       "3             i've been great. what about you?   \n",
       "4     i've been good. i'm in school right now.   \n",
       "...                                        ...   \n",
       "3727                               how are you   \n",
       "3728                         how are you doing   \n",
       "3729                                     Hello   \n",
       "3730                               how are you   \n",
       "3731                               how are you   \n",
       "\n",
       "                                       Answers  \n",
       "0          i'm pretty good. thanks for asking.  \n",
       "1            no problem. so how have you been?  \n",
       "2             i've been great. what about you?  \n",
       "3     i've been good. i'm in school right now.  \n",
       "4                    what school do you go to?  \n",
       "...                                        ...  \n",
       "3727             i'm fine. how about yourself?  \n",
       "3728             i'm fine. how about yourself?  \n",
       "3729                                        hi  \n",
       "3730             i'm fine. how about yourself?  \n",
       "3731             i'm fine. how about yourself?  \n",
       "\n",
       "[3732 rows x 2 columns]"
      ]
     },
     "execution_count": 20,
     "metadata": {},
     "output_type": "execute_result"
    }
   ],
   "source": [
    "df"
   ]
  },
  {
   "cell_type": "code",
   "execution_count": 21,
   "id": "52ae66fc",
   "metadata": {},
   "outputs": [],
   "source": [
    "def cleaner(x):\n",
    "    return [a for a in (''.join([a for a in x if a not in string.punctuation])).lower().split()]"
   ]
  },
  {
   "cell_type": "code",
   "execution_count": 22,
   "id": "91ea1476",
   "metadata": {},
   "outputs": [],
   "source": [
    "Pipe = Pipeline([\n",
    "    ('bow',CountVectorizer(analyzer=cleaner)),\n",
    "    ('tfidf',TfidfTransformer()),\n",
    "    ('classifier',DecisionTreeClassifier())\n",
    "])"
   ]
  },
  {
   "cell_type": "code",
   "execution_count": 23,
   "id": "20d25bcf",
   "metadata": {},
   "outputs": [
    {
     "data": {
      "text/plain": [
       "Pipeline(steps=[('bow',\n",
       "                 CountVectorizer(analyzer=<function cleaner at 0x7ff61ff29d30>)),\n",
       "                ('tfidf', TfidfTransformer()),\n",
       "                ('classifier', DecisionTreeClassifier())])"
      ]
     },
     "execution_count": 23,
     "metadata": {},
     "output_type": "execute_result"
    }
   ],
   "source": [
    "Pipe.fit(df['Questions'],df['Answers'])"
   ]
  },
  {
   "cell_type": "code",
   "execution_count": 24,
   "id": "86a21d32",
   "metadata": {},
   "outputs": [
    {
     "data": {
      "text/plain": [
       "'hello'"
      ]
     },
     "execution_count": 24,
     "metadata": {},
     "output_type": "execute_result"
    }
   ],
   "source": [
    "Pipe.predict(['hi'])[0]"
   ]
  },
  {
   "cell_type": "code",
   "execution_count": 25,
   "id": "4161ccde",
   "metadata": {},
   "outputs": [
    {
     "data": {
      "text/plain": [
       "\"i'm fine. how about yourself?\""
      ]
     },
     "execution_count": 25,
     "metadata": {},
     "output_type": "execute_result"
    }
   ],
   "source": [
    "Pipe.predict(['how are you'])[0]"
   ]
  },
  {
   "cell_type": "code",
   "execution_count": 26,
   "id": "ef8759d6",
   "metadata": {},
   "outputs": [
    {
     "data": {
      "text/plain": [
       "'i appreciate that.'"
      ]
     },
     "execution_count": 26,
     "metadata": {},
     "output_type": "execute_result"
    }
   ],
   "source": [
    "Pipe.predict(['great'])[0]"
   ]
  },
  {
   "cell_type": "code",
   "execution_count": 27,
   "id": "b1722305",
   "metadata": {},
   "outputs": [
    {
     "data": {
      "text/plain": [
       "\"i'm going to change the light bulb. it burnt out.\""
      ]
     },
     "execution_count": 27,
     "metadata": {},
     "output_type": "execute_result"
    }
   ],
   "source": [
    "Pipe.predict(['What are you doing'])[0]"
   ]
  },
  {
   "cell_type": "code",
   "execution_count": 29,
   "id": "bb167891",
   "metadata": {},
   "outputs": [
    {
     "data": {
      "text/plain": [
       "'you should go to bed.'"
      ]
     },
     "execution_count": 29,
     "metadata": {},
     "output_type": "execute_result"
    }
   ],
   "source": [
    "Pipe.predict(['Dude, I am so hungry'])[0]"
   ]
  },
  {
   "cell_type": "code",
   "execution_count": null,
   "id": "298ed33e",
   "metadata": {},
   "outputs": [],
   "source": []
  }
 ],
 "metadata": {
  "kernelspec": {
   "display_name": "Python 3",
   "language": "python",
   "name": "python3"
  },
  "language_info": {
   "codemirror_mode": {
    "name": "ipython",
    "version": 3
   },
   "file_extension": ".py",
   "mimetype": "text/x-python",
   "name": "python",
   "nbconvert_exporter": "python",
   "pygments_lexer": "ipython3",
   "version": "3.8.8"
  }
 },
 "nbformat": 4,
 "nbformat_minor": 5
}
